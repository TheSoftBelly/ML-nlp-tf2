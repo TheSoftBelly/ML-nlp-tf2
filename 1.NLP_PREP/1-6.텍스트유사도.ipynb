{
 "cells": [
  {
   "cell_type": "markdown",
   "metadata": {},
   "source": [
    "## 텍스트 유사도\n",
    "\n",
    "* 텍스트 유사도란 텍스트가 얼마나 유사한지를 표현하는 방식 중 하나\n",
    "    * 유사도 측정 방법\n",
    "        1. 자카드 유사도\n",
    "        2. 유클리디언 유사도\n",
    "        3. 맨해튼 유사도 \n",
    "        4. 코사인 유사도"
   ]
  },
  {
   "cell_type": "markdown",
   "metadata": {},
   "source": [
    "### 일단 텍스트 벡터화 진행"
   ]
  },
  {
   "cell_type": "code",
   "execution_count": 1,
   "metadata": {},
   "outputs": [
    {
     "name": "stdout",
     "output_type": "stream",
     "text": [
      "{'갑작스런': 1.4054651081081644, '내일': 1.4054651081081644, '놀러왔다가': 1.4054651081081644, '망연자실': 1.4054651081081644, '반가운': 1.4054651081081644, '서쪽': 1.4054651081081644, '소식': 1.4054651081081644, '오늘': 1.4054651081081644, '으로': 1.4054651081081644, '이어졌는데요': 1.4054651081081644, '인해': 1.4054651081081644, '있습니': 1.4054651081081644, '있습니다': 1.4054651081081644, '중심': 1.4054651081081644, '폭염': 1.0, '피해서': 1.4054651081081644, '하고': 1.4054651081081644, '휴일': 1.0}\n"
     ]
    },
    {
     "name": "stderr",
     "output_type": "stream",
     "text": [
      "/Users/joon/opt/anaconda3/envs/study/lib/python3.10/site-packages/sklearn/utils/deprecation.py:87: FutureWarning: Function get_feature_names is deprecated; get_feature_names is deprecated in 1.0 and will be removed in 1.2. Please use get_feature_names_out instead.\n",
      "  warnings.warn(msg, category=FutureWarning)\n"
     ]
    }
   ],
   "source": [
    "import numpy as np\n",
    "\n",
    "from sklearn.feature_extraction.text import TfidfVectorizer\n",
    "\n",
    "sent = (\"휴일 인 오늘 도 서쪽 을 중심 으로 폭염 이 이어졌는데요, 내일 은 반가운 비 소식 이 있습니다.\", \"폭염 을 피해서 휴일 에 놀러왔다가 갑작스런 비 로 인해 망연자실 하고 있습니 다.\") \n",
    "tfidf_vectorizer = TfidfVectorizer()\n",
    "tfidf_matrix = tfidf_vectorizer.fit_transform(sent) #문장 벡터화 진행\n",
    "\n",
    "idf = tfidf_vectorizer.idf_\n",
    "print(dict(zip(tfidf_vectorizer.get_feature_names(), idf)))"
   ]
  },
  {
   "cell_type": "markdown",
   "metadata": {},
   "source": [
    "### 자카드 유사도\n",
    "\n",
    "* 두 문장을 각각 단어의 집합으로 만든 뒤 두 집합을 통해 유사도를 측정하는 방식\n",
    "\n",
    "![자카드 유사도](https://t1.daumcdn.net/cfile/tistory/99651E335C75E5CC3F '자카드유사도')\n",
    "![자카드](https://miro.medium.com/max/1400/1*TG5hwQ3lYaKSCEBlvMlPPw.png '자카드')"
   ]
  },
  {
   "cell_type": "code",
   "execution_count": 3,
   "metadata": {},
   "outputs": [
    {
     "data": {
      "text/plain": [
       "array([0.5, 1. , 0. ])"
      ]
     },
     "execution_count": 3,
     "metadata": {},
     "output_type": "execute_result"
    }
   ],
   "source": [
    "# 자카드 유사도\n",
    "from sklearn.metrics import jaccard_score\n",
    "\n",
    "# jaccard_score(tfidf_matrix[0:1], tfidf_matrix[1:2])\n",
    "jaccard_score(np.array([1,1,0,0]), np.array([1,1,0,2]), average=None)"
   ]
  },
  {
   "cell_type": "markdown",
   "metadata": {},
   "source": [
    "### 코사인 유사도 \n",
    "* 두개의 벡터값에서 코사인 각도를 구하는 방법\n",
    "\n",
    "!['코사인유사도'](data:image/png;base64,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 '코사인유사도')"
   ]
  },
  {
   "cell_type": "code",
   "execution_count": 4,
   "metadata": {},
   "outputs": [
    {
     "data": {
      "text/plain": [
       "array([[0.11304078]])"
      ]
     },
     "execution_count": 4,
     "metadata": {},
     "output_type": "execute_result"
    }
   ],
   "source": [
    "# 코사인 유사도\n",
    "\n",
    "from sklearn.metrics.pairwise import cosine_similarity\n",
    "\n",
    "# 코사인 유사도를 구해보자\n",
    "cosine_similarity(tfidf_matrix[0:1], tfidf_matrix[1:2])"
   ]
  },
  {
   "cell_type": "markdown",
   "metadata": {},
   "source": [
    "### 유클리디언 유사도 \n",
    "* n차원 공간에서 두 점 사이의 최단 거리를 구하는 접근법이다.\n",
    "* 유클리디언 유사도는 단순히 두 점 사이의 거리를 나타내는 것이라 1보다 큰 값이 나올 수 있다.\n",
    "* 그렇기 때문에 정규화를 통해서 다른 유사도 측정 방식과 동일하게 만든다\n",
    "\n",
    "!['유클리디언유사도'](data:image/jpeg;base64,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 '유클리디언유사도')"
   ]
  },
  {
   "cell_type": "code",
   "execution_count": 6,
   "metadata": {},
   "outputs": [
    {
     "data": {
      "text/plain": [
       "array([[1.33188529]])"
      ]
     },
     "execution_count": 6,
     "metadata": {},
     "output_type": "execute_result"
    }
   ],
   "source": [
    "# 유클리디안 유사도\n",
    "\n",
    "from sklearn.metrics.pairwise import euclidean_distances\n",
    "\n",
    "euclidean_distances(tfidf_matrix[0:1], tfidf_matrix[1:2])\n"
   ]
  },
  {
   "cell_type": "code",
   "execution_count": 7,
   "metadata": {},
   "outputs": [
    {
     "data": {
      "text/plain": [
       "array([[0.21243357]])"
      ]
     },
     "execution_count": 7,
     "metadata": {},
     "output_type": "execute_result"
    }
   ],
   "source": [
    "# 정규화\n",
    "\n",
    "import numpy as np\n",
    "\n",
    "def l1_normalize(v):\n",
    "    norm = np.sum(v)\n",
    "    return v / norm\n",
    "\n",
    "tfidf_norm_l1 = l1_normalize(tfidf_matrix)\n",
    "euclidean_distances(tfidf_norm_l1[0:1], tfidf_norm_l1[1:2])"
   ]
  },
  {
   "cell_type": "markdown",
   "metadata": {},
   "source": [
    "### 맨해튼 유사도\n",
    "\n",
    "* 맨해튼 거리를 통해 유사도를 측정하는 방법\n",
    "* 맨해튼 유사도 또한 유클리디언 유사도와 동일한 이유로 정규화를 진행하고 유사도를 측정해야한다."
   ]
  },
  {
   "cell_type": "markdown",
   "metadata": {},
   "source": [
    "![맨해튼 유사도](data:image/png;base64,iVBORw0KGgoAAAANSUhEUgAAAOIAAADfCAMAAADcKv+WAAAAh1BMVEX///93d3dxcXG9vb35+fnR0dHExMSSkpJ1dXXq6urc3NyYmJi1tbXAwMCurq6FhYXy8vKhoaEmJiZfX19ERETp6ekAAAClpaXKysrX19ebm5u4uLiNjY3j4+N/f3+rq6sfHx9oaGg8PDxLS0s1NTUTExNJSUlVVVVZWVkODg4YGBgvLy8oKChcls5eAAANDUlEQVR4nO2di3arqhaGUfEKKuzUeENN2q7V7p79/s93AM09GGOisQ7/sbqSJlT5nDAnNxEApaxC/d1MtMpenYPBtf58dQ6GVrBep6/Ow8Ba/fxbvjoPw6pYbzb/vjoTw4pyxLX/6lwMqrefzeaP/upcDKl0/bP5+VmTV+djQNnvb5/8n/HqfAwoyFs35qszMbgWxDloQZyDFsQ5aEGcgxbEOWhBnIMWxDloQZyDFsQ5aEGcgxbEOWhBnIMWxDloQZyDFsQ5aEGcgxbEOWhBnIMWxDloQZyDFsQ5aEGcgxbEOWhBnIMWxDloQZyDFsQ5aEGcgxbEOWhBnIMWxDloQZyDFsQ5aEGcg16D6NEwtJOzD4PLm+/jZ5zsJYh462iapoc1UxoEgQUADPl7SA+pkhTgZ+TuWYjwjrRY16QcJn8NfS+lNsjE5kLl9nDEjQXgVnGIe/QsRK+yulLChpDbUZ48FGx/wZfITWzvk2mGAcD2nkun0JMQeZErkNUtrblHdOSWSWEEIGbwjcN/gXCXClceRwy9x/P2JMRQbAyUV53SYmeHqEmbsa2mfSSk5DaL9ojuNzA5op0/nrcnIUJuCu4ggi5pff0UUf7ptviQl4g1iXQCUr8pxA/qae6GCfdYdSlX7qEuShtJRMdbgVAry49S1j7yUZbbVTyZuggRz6pbuuJd85Frt2i7R5RRI8xwzhxA5eVhAEbNMXhdnIpHJYjE3NO4Ib/iflOwvHcDK2U4dW3U6+CfYhx4u8tjAv99d9xiKnGRiAhOTWFH/kuzyxMvdmpVWbbV9W14tncZrgtlhA8fdarbt/QgIs+VQYQh+RuScjt2QHR5s4wkyWjbCD6IWMmyRmxOWFCQ7qpiG+ITwsBthWXp7FzfowWV8dJWCN8vbAP2DWk1IsOqbx6WL08fiWvoRm60c8YP18WMXyzm1YY8SI143r94oky5F9rKBM73avWx+v6o68JDiCk3ISwLHvjN+DSAqRCzQXcr0/j1s+r2kbPZxZ6HEAvE/UsS8KAPz5tuCkQ2bEXk7Vz4yV+K4D0n32VaX88HEBPMQxp38YRdmuYqIgRu75N1E6aiFQI1Q5Qpz66rfX/EQlhONjKL8ILxGiIph48TX1vh32mGEEUZRbLiP+huqLRLFJ43Ja8h0hEGGDLeWIBmmqbWu5empqyPDyImdfApbiOS6PyTIYRke8jK8/h/Rt7sUvgcxAtdIJJylK1mben3Et+3Ej9pGrt9EIsDF1ZUrwvEkYbBzOML+d371Gl8aMUgRX/uDLEYpdV2rmY0737ElAJrvxenKgqcIhb6K7fuvhvRrARhQEBrO+UUMRrF1ah0L6LAS0BmNp10lY4Ri1CdbgzdiZiGgpDj0XYHeYTovrSUgvutGNuF6FzYN4reAfFGiR5B9yC6YmQ3ThABtnAzbf32PWLC1IlG0l1WTESvHhGIJCFtSblDhBdNu/F1ByJOQCIaD3KoDSStE2MNovl6wPusyFJgBCCyCTcibp/AqBGTyy7IC9QZ0eU1D7lGaEFCSnKDsEG8Min6AnVFdBlMfFDKqCgGMm4kF4jWRJ7x0BUxF518OXMh+pk3qxhHzFXt17HVBRGKzrOFAa6IGGizO4TyYnXZh3yVOlkx9oGRAOZ5GhTD+804of/Wos1L+hZX1QHRiECcitkVWb28/VBvwIirEAnstiOOqw6IvAKSbcodDu+BHbfbAqT8E3cqhVToNiLvAIcIsoJHOfvk6SJqxEoN/wLdRLQ5CckgQAWAp7ZRIqZPmTN7mm4gRswFPuUvAF5Mt6gQp/Z4jlZES0R8Xu5i4An3cdYJvo4I7W7rNsZTKyLvLhUlD4SenFbLz8xzHZFMzYjtiIQXzrS0a+vl55HuKiKaRLP0RO11kfIMexEQjc3gYmLwGqI93ARpb6kRi5gWpKbAwbWxmktECKb4HEAlYlpB3i/0a9+Brw3XXyDC8qWDiSopEUX+SQGCOsZdq2EXiGjASe4HpETkUSKIgzIylYNtZ4iETKnVdiQlIk7FYkkYAugH1/u2p4iknOoqcyUiZLEonYbAux4IThGnu45enTNvK+iwelz/GDHquNz2FWq5+KnuAa9lpPcIsdg+YfXvUGorXyRGbZH8CDGaMOEjVWiPGLUP6kNZiNUOV9lcIOQojde7VfEExGh7OHvRrObBYuWLyeXVo6kBi+OMCVv7GRUqCSARF/9OPowV1qqP0rxNDABFGhcARkDb/EKrHkck8DBVTHRZYgMTejzaIC9NeUc65k5Ldj9geTCLTUBqGAbO5HJwUsZCtHZaULznnyYWiHgao5St+6TvsOzDiKZ29BHLBaIrLriRkrphlPAzNOOSjLciYm7FLK+asu02iJfN3UwiSoUSEfY146OI5HjqKU8Oi1SwlyZFCuveilsanpugw4AHafrNRIVo8cageYII+k7jPYiYHvsQFwFrh1gwYNmmyQpAZRLPwIlYflzXRIrsrEiEPWMFIgIxZRYoEE/MakTas4H4GKKpHTd8eP3aIeY8P3LNa6h2E0GTViCGEjzbNyDkmhBeUM2mHy4Q+/a2H0HMQHx8VixWg8psw0Ofg8GMgIxmjIqfLAFGbUd0gnguU1pVIDbDJMMVVLT5R6n/Nl+nlzXOEGLyxqlMZl42G0IgPRChjRdqBHl+AyNNUzMnl1n365QCkXKvnOautOIgiGFVeCoV6Nrllx41FDMBJI3lZE+9VptnOpI3gVVUxgf+XSTiZhpx6zSxkktOPRdNeeWIRKQxI8gRvb7N4BuIbYe91twoXJDb0Mi5TOBRGehEtkVwqBFpAY6CvDyJ6gTJ4ey8msd9u6M3ENXPD89VX12syizM+haVevjRqqTiQ3tBOXbuHYJ9DknvIYW+iNYdlf8p4479D9ITcaqDGNfUD5FOa2KmXb0Q06fcjD6W+iBOcyxRqR6I2dSmnm7ofkR3gtMWrboXEfaOwC/TnYiwnPBookL3IcLzmeLfoLsQJzr1dEN3Idq/r5SCuxAnO/V0Q90Ro2ds6fEKdUfstLnEFNUVMZrI+tke6ogYOb/Vhp0Rvd9L2A0x6j1lMgV1QSx+ZcTfqwMihNNb9HWPbiOmzlh5GUg3EUn5u214Y64/0qzork3sJik1ohnqulY654T5qVGtKS7sO5USMag3wXIOTTg5XyF2TjT3WJj3rwbO4ONSIZq7bb4OK2q+xa1egQnSz+ZvYP4PfMpObcNKhRiebkcHxA2LYsXFChK0av7GpH9h+52ak5AC8bAdnbbbbW5LvFLsKHO8H8gKAle7eoAJSYEYHSHW/iXi4XEFiNj7KDtGJG+j5PMBKRDJAVGvPwlDGusVEFtzZLOw4qEuOk1d/EosK1kB4XJOEH9tXTxsYtpsPFDJ+U+acI8qFkg3bvQLAjb5bpYyLiZyP2FHb76vwyNJxIJqzwXruoImvzkuchDEWzf2hY2whNvv+jbevoO91dZGhfDXt0+Fpruk+2laEOegBXEOWhDnoAVxDloQ56AFceJKu/QTfjfi6t8O977+bkT9z5/1D7ox7mCZ8PcKbP9sNpv1+kO9hJ3LY21Pvpi40N8fjrj5s15PaJOkJ0v/s/lZr7f+LEYnrmu7Xr/tbmrCV3bc7X3P43R0NHwmpsxoqe+nBg1N3C6qvyZfwwibgCJgfjS/JlvgvkOARjBjtlp9j7LSmtvvU7w0QXAVyd2W0qH8kCtvUisogKTWCO7gA7jikWpBcz25BYFXAvKMRxxdVSmmB94ICFZbfe1sVyPc9rACkah4uLn9QOB6zpDzZp8uKOt4zD7HuW/lC0IxaxY3t62+E7FaoZ4sHEbFt1WK/SrRZw7iv9kIlT4k4IOHjY8mdIS84Gjmjb14H1O1Fv83j8IyR3A4iQHSD6tEzWYY5N3IeD0ccmnb9q+ISo6j6+KfM8K+0+Kua3F7clB7GCguLxlwV/aMgv/kanIIN/yHjLACy2wMlh71ndLhnjSTcodm8ZruM2avGWO/eiXkVcGNsFoZAFIURVREk92zqb+iunzso+EYzShjXPl+/bL7NYwHPyXQXyvhWAcW0CYjRz887NWpfxzNEc+cdJrXw3fNG8c5pL1+TP4zHUSHYdSESke3NV3PdN3WUVA5Ds0ZQ0hYPCw1h4pUAjzQs0yk1XUN8W/4Z+JvHXmAOu46yJkSombpNsLICDJW+ZhhbOW2qRuIZXaloxj72KYxB9YNjMM85m0Gy8a5bvsxxXGCK8yvkE8DWgUsyAwcVgE/iKFPDJHmWz/IUJIFQVDmuIxzHdMqtKvMDLD4Lqe2QEQBYppu4YQjZpxT44A0w5XOX4M4t4IKawlN+BHwpKzosNwucZjEju/YNvMNu2SVU1LmOBlmNsoqLa7KmOoZYmFlI51uUYacMETUojYK44o5SKsYqsqAIT3WY1oGCE0JUbobxwn1MhS+BZW1N5E/so7J3+UntffZ+SAnRCcfNWn3Tur/Agm+h4z949oAAAAASUVORK5CYII= \"맨해튼 유사도\")\n"
   ]
  },
  {
   "cell_type": "code",
   "execution_count": 9,
   "metadata": {},
   "outputs": [
    {
     "data": {
      "text/plain": [
       "array([[0.85654185]])"
      ]
     },
     "execution_count": 9,
     "metadata": {},
     "output_type": "execute_result"
    }
   ],
   "source": [
    "# 맨하탄 유사도\n",
    "\n",
    "from sklearn.metrics.pairwise import manhattan_distances\n",
    "\n",
    "manhattan_distances(tfidf_norm_l1[0:1], tfidf_norm_l1[1:2])"
   ]
  },
  {
   "cell_type": "code",
   "execution_count": null,
   "metadata": {},
   "outputs": [],
   "source": []
  }
 ],
 "metadata": {
  "kernelspec": {
   "display_name": "Python 3.10.5 64-bit ('study')",
   "language": "python",
   "name": "python3"
  },
  "language_info": {
   "codemirror_mode": {
    "name": "ipython",
    "version": 3
   },
   "file_extension": ".py",
   "mimetype": "text/x-python",
   "name": "python",
   "nbconvert_exporter": "python",
   "pygments_lexer": "ipython3",
   "version": "3.10.5"
  },
  "orig_nbformat": 4,
  "vscode": {
   "interpreter": {
    "hash": "37119a116a45c2243008a0e89dda34bbd2ff7fcda6a8d95159bf2d6b525d3e84"
   }
  }
 },
 "nbformat": 4,
 "nbformat_minor": 2
}
