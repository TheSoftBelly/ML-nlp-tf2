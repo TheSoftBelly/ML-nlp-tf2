{
 "cells": [
  {
   "cell_type": "code",
   "execution_count": 1,
   "metadata": {},
   "outputs": [],
   "source": [
    "import os\n",
    "import re\n",
    "import pandas as pd\n",
    "import tensorflow as tf\n",
    "from tensorflow.keras import utils"
   ]
  },
  {
   "cell_type": "markdown",
   "metadata": {},
   "source": [
    "## 판다스로 데이터를 불러오면 쉽게 데이터 분석 과정을 진행할 수 있지만 풀린데이터를 보면 txt 형태여서 \n",
    "## 데이터 프레임으로 만들기 위한 변환 작업이 필요하다."
   ]
  },
  {
   "cell_type": "markdown",
   "metadata": {},
   "source": [
    "### 하나는 각 파일에서 리뷰 텍스트를 불러오는 함수이다.\n",
    "### 다른 하나는 각 리뷰에 해당하는 라벨값을 가져오는 함수다."
   ]
  },
  {
   "cell_type": "code",
   "execution_count": 2,
   "metadata": {},
   "outputs": [],
   "source": [
    "def directory_data(directory):\n",
    "  data = {}\n",
    "  data['review'] = []\n",
    "  for file_path in os.listdir(directory):\n",
    "    with open(os.path.join(directory, file_path), 'r') as file:\n",
    "      data['review'].append(file.read())\n",
    "\n",
    "  return pd.DataFrame.from_dict(data)"
   ]
  },
  {
   "cell_type": "code",
   "execution_count": null,
   "metadata": {},
   "outputs": [],
   "source": []
  }
 ],
 "metadata": {
  "kernelspec": {
   "display_name": "Python 3.8.13 ('ml')",
   "language": "python",
   "name": "python3"
  },
  "language_info": {
   "codemirror_mode": {
    "name": "ipython",
    "version": 3
   },
   "file_extension": ".py",
   "mimetype": "text/x-python",
   "name": "python",
   "nbconvert_exporter": "python",
   "pygments_lexer": "ipython3",
   "version": "3.8.13"
  },
  "orig_nbformat": 4,
  "vscode": {
   "interpreter": {
    "hash": "e792887d998ce46b53b15d236ebac98e12258967697dc0a6966eabb9a0aa9c8f"
   }
  }
 },
 "nbformat": 4,
 "nbformat_minor": 2
}
